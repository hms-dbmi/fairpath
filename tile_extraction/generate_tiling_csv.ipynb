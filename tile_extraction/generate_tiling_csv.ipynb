{
 "cells": [
  {
   "cell_type": "markdown",
   "metadata": {},
   "source": [
    "# Scripts for creating WSI lists"
   ]
  },
  {
   "cell_type": "code",
   "execution_count": 5,
   "metadata": {},
   "outputs": [],
   "source": [
    "## DFCI breast\n",
    "import pandas as pd\n",
    "import numpy as np\n",
    "import os\n",
    "import copy\n",
    "import glob\n",
    "\n",
    "WSIs = glob.glob('/n/data2/hms/dbmi/kyu/lab/datasets/DFCI_breast/raw/*/*/*.svs')\n",
    "df = pd.DataFrame({'file':WSIs})\n",
    "df.to_csv(f'../data_sheet/DFCI_breast(N={len(WSIs)}).csv',header=None,index=None)"
   ]
  },
  {
   "cell_type": "code",
   "execution_count": 2,
   "metadata": {},
   "outputs": [],
   "source": [
    "## DFCI breast (new)\n",
    "import pandas as pd\n",
    "import numpy as np\n",
    "import os\n",
    "import copy\n",
    "import glob\n",
    "\n",
    "WSIs = glob.glob('/n/data2/hms/dbmi/kyu/lab/datasets/DFCI/breast/*/*/*.svs')\n",
    "df = pd.DataFrame({'file':WSIs})\n",
    "df.to_csv(f'../data_sheet/DFCI_breast_new(N={len(WSIs)}).csv',header=None,index=None)"
   ]
  },
  {
   "cell_type": "code",
   "execution_count": 3,
   "metadata": {},
   "outputs": [],
   "source": [
    "## DFCI brain\n",
    "import pandas as pd\n",
    "import numpy as np\n",
    "import os\n",
    "import copy\n",
    "import glob\n",
    "\n",
    "WSIs = glob.glob('/n/data2/hms/dbmi/kyu/lab/datasets/DFCI/brain/*/*/*.svs')\n",
    "df = pd.DataFrame({'file':WSIs})\n",
    "df.to_csv(f'../data_sheet/DFCI_brain(N={len(WSIs)}).csv',header=None,index=None)"
   ]
  },
  {
   "cell_type": "code",
   "execution_count": 5,
   "metadata": {},
   "outputs": [],
   "source": [
    "## DFCI colorectal\n",
    "import pandas as pd\n",
    "import numpy as np\n",
    "import os\n",
    "import copy\n",
    "import glob\n",
    "\n",
    "WSIs = glob.glob('/n/data2/hms/dbmi/kyu/lab/datasets/DFCI/colorectal/*/*/*.svs')\n",
    "df = pd.DataFrame({'file':WSIs})\n",
    "df.to_csv(f'../data_sheet/DFCI_colorectal(N={len(WSIs)}).csv',header=None,index=None)"
   ]
  },
  {
   "cell_type": "code",
   "execution_count": null,
   "metadata": {},
   "outputs": [],
   "source": [
    "## DFCI renal\n",
    "import pandas as pd\n",
    "import numpy as np\n",
    "import os\n",
    "import copy\n",
    "import glob\n",
    "\n",
    "WSIs = glob.glob('/n/data2/hms/dbmi/kyu/lab/datasets/DFCI/renal/*/*/*.svs')\n",
    "df = pd.DataFrame({'file':WSIs})\n",
    "df.to_csv(f'../data_sheet/DFCI_renal(N={len(WSIs)}).csv',header=None,index=None)"
   ]
  },
  {
   "cell_type": "code",
   "execution_count": 2,
   "metadata": {},
   "outputs": [],
   "source": [
    "## DFCI lung\n",
    "import pandas as pd\n",
    "import numpy as np\n",
    "import os\n",
    "import copy\n",
    "import glob\n",
    "\n",
    "WSIs = glob.glob('/n/data2/hms/dbmi/kyu/lab/datasets/DFCI_lung/18-319_pathology_images/*/*/*.svs')\n",
    "df = pd.DataFrame({'file':WSIs})\n",
    "df.to_csv(f'data_sheet/DFCI_lung(N={len(WSIs)}).csv',header=None,index=None)\n"
   ]
  },
  {
   "cell_type": "code",
   "execution_count": 10,
   "metadata": {},
   "outputs": [
    {
     "name": "stderr",
     "output_type": "stream",
     "text": [
      "100%|██████████| 10/10 [00:00<00:00, 104.60it/s]\n"
     ]
    }
   ],
   "source": [
    "## CPTACs\n",
    "import glob\n",
    "import os\n",
    "import pandas as pd\n",
    "\n",
    "from tqdm import tqdm\n",
    "folders = glob.glob('/n/data2/hms/dbmi/kyu/lab/datasets/CPTAC*')\n",
    "folders = [\n",
    "    '/n/data2/hms/dbmi/kyu/lab/datasets/CPTAC_OV', #\n",
    "    '/n/data2/hms/dbmi/kyu/lab/datasets/CPTAC-CCRCC', #\n",
    "    '/n/data2/hms/dbmi/kyu/lab/datasets/CPTAC_PDA', #\n",
    "    # '/n/data2/hms/dbmi/kyu/lab/datasets/CPTAC-AML',\n",
    "    '/n/data2/hms/dbmi/kyu/lab/datasets/CPTAC_LSCC', #\n",
    "    '/n/data2/hms/dbmi/kyu/lab/datasets/CPTAC_CCRCC(WSI)',\n",
    "    '/n/data2/hms/dbmi/kyu/lab/datasets/CPTAC_LUAD', #\n",
    "    '/n/data2/hms/dbmi/kyu/lab/datasets/CPTAC_HNSCC', #\n",
    "    # '/n/data2/hms/dbmi/kyu/lab/datasets/CPTAC-GBM',\n",
    "    '/n/data2/hms/dbmi/kyu/lab/datasets/CPTAC_COAD', #\n",
    "    '/n/data2/hms/dbmi/kyu/lab/datasets/CPTAC_BRCA', #\n",
    "    '/n/data2/hms/dbmi/kyu/lab/datasets/CPTAC_UCEC' #\n",
    "]\n",
    "# names = [os.path.basename(x) for x in folders]\n",
    "for folder in tqdm(folders):\n",
    "    name = os.path.basename(folder) \n",
    "    WSIs = glob.glob(os.path.join(folder,'*.svs'))\n",
    "    outfile = os.path.join('data_sheet',f'{name}(N={len(WSIs)}).csv')\n",
    "    df = pd.DataFrame({'file': WSIs})\n",
    "    df.to_csv(outfile,header=None,index=None)\n"
   ]
  },
  {
   "cell_type": "code",
   "execution_count": 11,
   "metadata": {},
   "outputs": [],
   "source": [
    "#BWH & UPenn\n",
    "\n",
    "import glob\n",
    "import os\n",
    "import pandas as pd\n",
    "base = '/n/data2/hms/dbmi/kyu/lab/datasets/GBMFrozen/ndpi'\n",
    "WSIs = glob.glob(os.path.join(base,'*','*.ndpi'))\n",
    "WSIs = WSIs + glob.glob(os.path.join(base,'*','*','*.ndpi'))\n",
    "WSIs = WSIs + glob.glob(os.path.join(base,'*','*','*','*.ndpi'))\n",
    "# basenames = [os.path.basename(x) for x in WSIs]\n",
    "df = pd.DataFrame({'file':WSIs})\n",
    "outfile = os.path.join('../data_sheet',f'BWH_UPenn_brain(N={len(WSIs)}).csv')\n",
    "df.to_csv(outfile,header=None,index=None)\n",
    "\n"
   ]
  },
  {
   "cell_type": "code",
   "execution_count": 28,
   "metadata": {},
   "outputs": [],
   "source": [
    "#Mayo\n",
    "\n",
    "import glob\n",
    "import os\n",
    "import pandas as pd\n",
    "import numpy as np\n",
    "base = '/n/data2/hms/dbmi/kyu/lab/datasets/MayoBrain'\n",
    "csv = '/n/data2/hms/dbmi/kyu/lab/shl968/fairness_external_validation/clinical_data/Mayo/Glioma DC YC 061223.csv'\n",
    "\n",
    "df = pd.read_csv(csv)\n",
    "WSIs = glob.glob(os.path.join(base,'*.svs'))\n",
    "WSI_IDs = [os.path.basename(x).split(' ')[0] for x in WSIs]\n",
    "IDs = list(df['ID'])\n",
    "IDs_both = set(WSI_IDs).intersection(set(IDs))\n",
    "len(IDs_both)\n",
    "# WSI_IDs = np.array(WSI_IDs)\n",
    "idx_valid = np.array([x in IDs_both for x in WSI_IDs])\n",
    "idx_valid = np.argwhere(idx_valid).flatten()\n",
    "WSIs = np.array(WSIs)\n",
    "WSIs = WSIs[idx_valid]\n",
    "len(WSIs)\n",
    "\n",
    "df = pd.DataFrame({'file':WSIs})\n",
    "outfile = os.path.join('../data_sheet',f'Mayo_GBM_LGG(N={len(WSIs)}).csv')\n",
    "df.to_csv(outfile,header=None,index=None)\n",
    "\n",
    "\n",
    "# np.argwhere(IDs_both.)"
   ]
  },
  {
   "cell_type": "code",
   "execution_count": 1,
   "metadata": {},
   "outputs": [],
   "source": [
    "#PLCO colon\n",
    "\n",
    "import glob\n",
    "import os\n",
    "import pandas as pd\n",
    "base = '/n/data2/hms/dbmi/kyu/lab/datasets/PLCO/colon/original'\n",
    "WSIs = glob.glob(os.path.join(base,'*.svs'))\n",
    "# basenames = [os.path.basename(x) for x in WSIs]\n",
    "df = pd.DataFrame({'file':WSIs})\n",
    "outfile = os.path.join('../data_sheet',f'PLCO_colon(N={len(WSIs)}).csv')\n",
    "df.to_csv(outfile,header=None,index=None)\n",
    "\n",
    "#PLCO lung\n",
    "\n",
    "import glob\n",
    "import os\n",
    "import pandas as pd\n",
    "base = '/n/data2/hms/dbmi/kyu/lab/datasets/PLCO/lung/original'\n",
    "WSIs = glob.glob(os.path.join(base,'*.svs'))\n",
    "# basenames = [os.path.basename(x) for x in WSIs]\n",
    "df = pd.DataFrame({'file':WSIs})\n",
    "outfile = os.path.join('../data_sheet',f'PLCO_lung(N={len(WSIs)}).csv')\n",
    "df.to_csv(outfile,header=None,index=None)\n",
    "\n",
    "\n",
    "#PLCO lung\n",
    "\n",
    "import glob\n",
    "import os\n",
    "import pandas as pd\n",
    "base = '/n/data2/hms/dbmi/kyu/lab/datasets/PLCO/ovary/original'\n",
    "WSIs = glob.glob(os.path.join(base,'*.svs'))\n",
    "# basenames = [os.path.basename(x) for x in WSIs]\n",
    "df = pd.DataFrame({'file':WSIs})\n",
    "outfile = os.path.join('../data_sheet',f'PLCO_ovary(N={len(WSIs)}).csv')\n",
    "df.to_csv(outfile,header=None,index=None)\n",
    "\n",
    "\n"
   ]
  },
  {
   "cell_type": "code",
   "execution_count": 3,
   "metadata": {},
   "outputs": [
    {
     "name": "stdout",
     "output_type": "stream",
     "text": [
      "TCGA_GBM_PM(N=860).csv\n",
      "TCGA_LGG_PM(N=844).csv\n"
     ]
    }
   ],
   "source": [
    "## TCGA GBM PM\n",
    "import glob\n",
    "import os\n",
    "import pandas as pd\n",
    "base = '/n/data2/hms/dbmi/kyu/lab/datasets/tcgaGBM/dxImages/svs'\n",
    "\n",
    "# base = '/n/data2/hms/dbmi/kyu/lab/datasets/PLCO/ovary/original'\n",
    "WSIs = glob.glob(os.path.join(base,'*','*.svs'))\n",
    "# basenames = [os.path.basename(x) for x in WSIs]\n",
    "df = pd.DataFrame({'file':WSIs})\n",
    "outfile = os.path.join('../data_sheet',f'TCGA_GBM_PM(N={len(WSIs)}).csv')\n",
    "df.to_csv(outfile,header=None,index=None)\n",
    "print(f'TCGA_GBM_PM(N={len(WSIs)}).csv')\n",
    "\n",
    "\n",
    "## TCGA LGG PM\n",
    "import glob\n",
    "import os\n",
    "import pandas as pd\n",
    "base = '/n/data2/hms/dbmi/kyu/lab/datasets/tcgaLGG/dxImages/svs'\n",
    "\n",
    "# base = '/n/data2/hms/dbmi/kyu/lab/datasets/PLCO/ovary/original'\n",
    "WSIs = glob.glob(os.path.join(base,'*','*.svs'))\n",
    "# basenames = [os.path.basename(x) for x in WSIs]\n",
    "df = pd.DataFrame({'file':WSIs})\n",
    "outfile = os.path.join('../data_sheet',f'TCGA_LGG_PM(N={len(WSIs)}).csv')\n",
    "df.to_csv(outfile,header=None,index=None)\n",
    "print(f'TCGA_LGG_PM(N={len(WSIs)}).csv')\n",
    "\n"
   ]
  },
  {
   "cell_type": "code",
   "execution_count": 2,
   "metadata": {},
   "outputs": [
    {
     "name": "stdout",
     "output_type": "stream",
     "text": [
      "TCGA_GBM_FS(N=1193).csv\n",
      "TCGA_LGG_FS(N=728).csv\n"
     ]
    }
   ],
   "source": [
    "## TCGA GBM FS\n",
    "import glob\n",
    "import os\n",
    "import pandas as pd\n",
    "base = '/n/data2/hms/dbmi/kyu/lab/datasets/tcgaGBM/svs'\n",
    "\n",
    "# base = '/n/data2/hms/dbmi/kyu/lab/datasets/PLCO/ovary/original'\n",
    "WSIs = glob.glob(os.path.join(base,'*','*.svs'))\n",
    "# basenames = [os.path.basename(x) for x in WSIs]\n",
    "df = pd.DataFrame({'file':WSIs})\n",
    "outfile = os.path.join('../data_sheet',f'TCGA_GBM_FS(N={len(WSIs)}).csv')\n",
    "df.to_csv(outfile,header=None,index=None)\n",
    "print(f'TCGA_GBM_FS(N={len(WSIs)}).csv')\n",
    "\n",
    "\n",
    "## TCGA LGG FS\n",
    "import glob\n",
    "import os\n",
    "import pandas as pd\n",
    "base = '/n/data2/hms/dbmi/kyu/lab/datasets/tcgaLGG/svs/tissueSlides'\n",
    "\n",
    "# base = '/n/data2/hms/dbmi/kyu/lab/datasets/PLCO/ovary/original'\n",
    "WSIs = glob.glob(os.path.join(base,'*','*.svs'))\n",
    "# basenames = [os.path.basename(x) for x in WSIs]\n",
    "df = pd.DataFrame({'file':WSIs})\n",
    "outfile = os.path.join('../data_sheet',f'TCGA_LGG_FS(N={len(WSIs)}).csv')\n",
    "df.to_csv(outfile,header=None,index=None)\n",
    "print(f'TCGA_LGG_FS(N={len(WSIs)}).csv')\n",
    "\n"
   ]
  },
  {
   "cell_type": "code",
   "execution_count": 1,
   "metadata": {},
   "outputs": [],
   "source": [
    "## Vienna LGG\n",
    "import pandas as pd\n",
    "import numpy as np\n",
    "import os\n",
    "import copy\n",
    "import glob\n",
    "\n",
    "LGG_WSI_DIRS = [\n",
    "    '/n/scratch/users/s/shl968/8fc108ab-e2b4-406f-8999-60269dc1f994-v1.0-Diffuse astrocytoma, IDH-mutant',\n",
    "    '/n/scratch/users/s/shl968/8fc108ab-e2b4-406f-8999-60269dc1f994-v1.0-Oligodendroglioma, IDH-mutant and 1p-19q codeleted',\n",
    "    '/n/scratch/users/s/shl968/8fc108ab-e2b4-406f-8999-60269dc1f994-v1.0-Pilocytic astrocytoma'\n",
    "]\n",
    "\n",
    "WSIs = [glob.glob(os.path.join(x,'*.ndpi')) for x in LGG_WSI_DIRS]\n",
    "WSIs = [item for sublist in WSIs for item in sublist]\n",
    "df = pd.DataFrame({'file':WSIs})\n",
    "df.to_csv(f'../data_sheet/Vienna_LGG(N={len(WSIs)}).csv',header=None,index=None)"
   ]
  },
  {
   "cell_type": "code",
   "execution_count": 2,
   "metadata": {},
   "outputs": [],
   "source": [
    "# \n",
    "\n",
    "## Vienna GBM\n",
    "import pandas as pd\n",
    "import numpy as np\n",
    "import os\n",
    "import copy\n",
    "import glob\n",
    "\n",
    "LGG_WSI_DIRS = [\n",
    "    '/n/data2/hms/dbmi/kyu/lab/jz290/EbrainData/Glioblastoma-IDH-wildtype',\n",
    "]\n",
    "\n",
    "WSIs = [glob.glob(os.path.join(x,'*.ndpi')) for x in LGG_WSI_DIRS]\n",
    "WSIs = [item for sublist in WSIs for item in sublist]\n",
    "df = pd.DataFrame({'file':WSIs})\n",
    "df.to_csv(f'../data_sheet/Vienna_GBM(N={len(WSIs)}).csv',header=None,index=None)"
   ]
  }
 ],
 "metadata": {
  "kernelspec": {
   "display_name": "Python 3.8.13 ('HTAN_env')",
   "language": "python",
   "name": "python3"
  },
  "language_info": {
   "codemirror_mode": {
    "name": "ipython",
    "version": 3
   },
   "file_extension": ".py",
   "mimetype": "text/x-python",
   "name": "python",
   "nbconvert_exporter": "python",
   "pygments_lexer": "ipython3",
   "version": "3.8.13"
  },
  "orig_nbformat": 4,
  "vscode": {
   "interpreter": {
    "hash": "8ecfb3f49e40e69c174e81335f05ab6f4573a7221a0e07dab5a4b32f7472bd87"
   }
  }
 },
 "nbformat": 4,
 "nbformat_minor": 2
}
